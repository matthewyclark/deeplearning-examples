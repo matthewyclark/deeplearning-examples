{
 "cells": [
  {
   "cell_type": "markdown",
   "metadata": {},
   "source": [
    "*Simple Categorization Example*\n",
    "\n",
    "This example creates a neural network that categorizes an integer as divisible by a given factor, e.g. 7.  Choosing higher numbers will result in a more sparse categorization, and allow experimenting with unbalanced data set categorizations.\n",
    "\n",
    "it generates a list of random 16 bit integers, and expresses them as a list of bits for the neural network,\n",
    "it also generates a list of 1 or 0 if the number is divisible by the factor\n",
    "\n",
    "The resulting model can \"predict\" if a number is divisible by the factor.\n",
    "\n",
    "\n",
    "*Required python software packages (install with pip):*\n",
    "\n",
    "    numpy\n",
    "    tensorflow\n",
    "    matplotlib\n",
    "\n",
    "*Conclusions*\n",
    "\n",
    "One can train a model to categorize integers. Obviously this can be done more easily.\n",
    "\n",
    "\n"
   ]
  },
  {
   "cell_type": "code",
   "execution_count": 1,
   "metadata": {},
   "outputs": [
    {
     "name": "stdout",
     "output_type": "stream",
     "text": [
      "\n",
      "random integers each as a list of bits:\n",
      "x [[0 0 0 1 1 1 0 1 1 0 1 0 0 0 0 1 0 0 1 0]\n",
      " [1 1 1 0 0 1 1 0 1 0 0 0 0 1 0 1 0 1 1 1]\n",
      " [0 1 1 1 1 1 1 0 0 1 0 0 0 0 0 1 0 1 1 0]\n",
      " [1 0 1 0 1 0 0 0 1 1 1 1 1 0 0 1 0 1 0 1]\n",
      " [0 1 1 0 0 0 1 1 1 0 1 0 1 1 1 0 0 1 1 1]\n",
      " [1 0 0 1 0 0 1 1 0 0 0 1 0 0 0 0 0 0 0 0]\n",
      " [1 0 0 1 0 0 1 0 1 0 0 0 1 0 1 0 0 0 0 0]\n",
      " [0 0 0 1 0 1 0 1 0 1 1 1 0 0 1 0 0 1 0 1]\n",
      " [1 1 0 0 1 1 0 1 0 0 1 0 0 1 1 0 1 0 0 0]\n",
      " [1 1 0 1 1 1 1 1 0 1 1 0 0 1 0 0 0 1 1 1]]\n",
      "\n",
      "this above is the list of random numbers expressed as bits\n",
      "\n",
      "\n",
      "array of 1,0 if the number is divisible by 4\n",
      "y [0 1 0 1 1 0 0 1 0 1]\n",
      "\n",
      "in this array 1 = divisible by 4,  0 = not evenly divisible\n"
     ]
    }
   ],
   "source": [
    "import numpy as np\n",
    "# numpy is an essential library of numeric methods for python. It is also optimized\n",
    "# for high performance.\n",
    "# https://numpy.org/\n",
    "\n",
    "\n",
    "nrows = 10000  # number of rows of data to generate\n",
    "numEpochs = 1000 # maximum number of steps to run\n",
    "factor = 4  # find integers that are evenly divisible by this - try different values!\n",
    "            # you will find that powers of 2 (single bits) give the lowest error, other\n",
    "            # values will require longer training periods, have higher errors, and may require\n",
    "            # larger neural networks.\n",
    "\n",
    "\n",
    "maxbits = 20 # size of integer to generate, 2**maxbits\n",
    "\n",
    "#\n",
    "# create a data set for y = mx + b, linearly related variables\n",
    "# returns a tuple (x,y) of 'nrows' of correlated data\n",
    "# https://numpy.org/doc/stable/reference/random/generated/numpy.random.uniform.html\n",
    "def create_data():\n",
    "    \n",
    "    # use the numpy library to create a random list\n",
    "    # of numbers beteen 0 and 1.  np.random.uniform supplies this.\n",
    "    # https://numpy.org/doc/stable/reference/random/generated/numpy.random.uniform.html\n",
    "    \n",
    "    number = np.random.randint(low=0, high=2**maxbits, size=nrows)\n",
    "    \n",
    "    # make an indicator category 0, 1 to indicate whether the number is evenly\n",
    "    # divisible by 'factor'.  This is a very simple 'yes/no' categorization that\n",
    "    # also represent toxic/nontoxic or other variables.    \n",
    "    \n",
    "    #  this is a \"pythonic\" way to compute the list.\n",
    "    #\n",
    "    #  val = [ f(x) for x in <list> ] results in a list 'val', with a size \n",
    "    #  the same as <list>, and each entry has the value of the function f(x) for the\n",
    "    #  values x in < list>\n",
    "    # example:\n",
    "    #  val = [ 2*x for x in range(5)]\n",
    "    #  result in val = [0, 2, 4, 6, 8]\n",
    "\n",
    "    category = [num % factor & 1 for num in number]\n",
    "    \n",
    "    # create an array of 'maxbit' numbers corresponding to the bits in the integer\n",
    "    # converting the integer into a list of bits.\n",
    "    # Tensorflow will not otherwise look at bits in an integer, it would only\n",
    "    # look to see the magnitude of the number\n",
    "    bits = [[num >> k & 1 for k in range(maxbits - 1,-1,-1)] for num in number]\n",
    "    \n",
    "    # this \"pythonic\" computation of \"bits\" above is the equivalent of this loop:\n",
    "    #\n",
    "    # array to hold numbers as arrays of bits; this will be a list of lists.  \n",
    "    # in python list = 'array' in other languages\n",
    "    #bits     = []\n",
    "    #for i in range(nrows):\n",
    "        #entry = [number[i] >> k & 1 for k in range(maxbits - 1,-1,-1)]\n",
    "        #bits.append(entry)    \n",
    "    \n",
    "    # return x,y as a tuple of numpy arrays\n",
    "    return (np.array(bits), np.array(category))\n",
    "\n",
    "\n",
    "x,y = create_data()\n",
    "\n",
    "# print first 10 values to see the results\n",
    "print('\\nrandom integers each as a list of bits:')\n",
    "print('x', x[:10])  # use python list syntax for first 10\n",
    "print('\\nthis above is the list of random numbers expressed as bits\\n')\n",
    "print('\\narray of 1,0 if the number is divisible by', factor)\n",
    "print('y', y[:10])\n",
    "print('\\nin this array 1 = divisible by %d,  0 = not evenly divisible' % (factor))\n"
   ]
  },
  {
   "cell_type": "code",
   "execution_count": 2,
   "metadata": {},
   "outputs": [],
   "source": [
    "\"\"\"\n",
    "create the Neural Network model topology, which is one layer\n",
    "\"\"\"\n",
    "import tensorflow as tf\n",
    "import tensorflow.keras as keras\n",
    "\n",
    "def makeModel():\n",
    "\n",
    "    # these two lines clear out the model so you can re-run \n",
    "    # the notebook with different conditions\n",
    "    keras.backend.clear_session()\n",
    "    tf.compat.v1.reset_default_graph()\n",
    "\n",
    "    # https://keras.io/api/models/sequential/#sequential-class\n",
    "    model = keras.Sequential()\n",
    "    \n",
    "    # https://keras.io/api/layers/core_layers/input/\n",
    "    # it has to be the size of the list of bits for the integers.\n",
    "    model.add(keras.Input(shape=(maxbits,)))\n",
    "    \n",
    "    # define layers of neurons.  There are many options that \n",
    "    # could be used here but the default are used for this simple example\n",
    "    \n",
    "    # https://keras.io/api/layers/core_layers/dense/\n",
    "    # https://keras.io/api/layers/activations/#relu-function\n",
    "    # the activation function modifies the network coefficients\n",
    "    # https://keras.io/api/layers/normalization_layers/layer_normalization/\n",
    "    \n",
    "    # add more layers here to experiment with the neural network\n",
    "    \n",
    "    model.add(keras.layers.Dense(units=32, activation='relu'))\n",
    "    #model.add(keras.layers.LayerNormalization()) # normalize coefficients to help stability\n",
    "    model.add(keras.layers.Dense(units=1,  activation='sigmoid', name='output_layer'))\n",
    "     \n",
    "    # keras metrics - these are built in and keras will compute them for you to measure\n",
    "    # the training.  They are not minimized during training; only the loss function(s)\n",
    "    # are minimized.  \n",
    "    tp = tf.keras.metrics.TruePositives()\n",
    "    tn = tf.keras.metrics.TrueNegatives()\n",
    "    fp = tf.keras.metrics.FalsePositives()\n",
    "    fn = tf.keras.metrics.FalseNegatives()\n",
    "    auc = tf.keras.metrics.AUC()\n",
    "    \n",
    "    # compile the network using default options.  The SGD optimizer\n",
    "    # is good for general purpose, but would probably benefit from a custom\n",
    "    # learning rate for this example\n",
    "    # https://keras.io/api/optimizers/sgd/\n",
    "    # \n",
    "    # see this for the loss function\n",
    "    # https://keras.io/api/losses/probabilistic_losses/#binarycrossentropy-class\n",
    "    #\n",
    "    # the loss is function that will be minimized in the fitting process\n",
    "    # https://keras.io/api/models/model_training_apis/#compile-method\n",
    "    \n",
    "    model.compile(optimizer='RMSprop', loss='binary_crossentropy',metrics=[tp,tn,fp,fn,auc])\n",
    "    \n",
    "    #show the model structure and layer size\n",
    "    # the model has 2 trainable variables - enough for a perfect fit.\n",
    "    model.summary()\n",
    "    \n",
    "    return model\n"
   ]
  },
  {
   "cell_type": "code",
   "execution_count": 3,
   "metadata": {},
   "outputs": [
    {
     "name": "stdout",
     "output_type": "stream",
     "text": [
      "Model: \"sequential\"\n",
      "_________________________________________________________________\n",
      "Layer (type)                 Output Shape              Param #   \n",
      "=================================================================\n",
      "dense (Dense)                (None, 32)                672       \n",
      "_________________________________________________________________\n",
      "output_layer (Dense)         (None, 1)                 33        \n",
      "=================================================================\n",
      "Total params: 705\n",
      "Trainable params: 705\n",
      "Non-trainable params: 0\n",
      "_________________________________________________________________\n",
      "Epoch 1/1000\n",
      "313/313 [==============================] - 1s 2ms/step - loss: 0.3239 - true_positives: 4724.0000 - true_negatives: 4917.0000 - false_positives: 185.0000 - false_negatives: 174.0000 - auc: 0.9956\n",
      "Epoch 2/1000\n",
      "313/313 [==============================] - 1s 3ms/step - loss: 0.0302 - true_positives: 4898.0000 - true_negatives: 5102.0000 - false_positives: 0.0000e+00 - false_negatives: 0.0000e+00 - auc: 1.0000\n",
      "Epoch 3/1000\n",
      "313/313 [==============================] - 1s 3ms/step - loss: 6.3693e-04 - true_positives: 4898.0000 - true_negatives: 5102.0000 - false_positives: 0.0000e+00 - false_negatives: 0.0000e+00 - auc: 1.0000\n",
      "Epoch 4/1000\n",
      "313/313 [==============================] - 1s 2ms/step - loss: 3.5017e-06 - true_positives: 4898.0000 - true_negatives: 5102.0000 - false_positives: 0.0000e+00 - false_negatives: 0.0000e+00 - auc: 1.0000\n",
      "Epoch 5/1000\n",
      "313/313 [==============================] - 1s 2ms/step - loss: 5.2225e-08 - true_positives: 4898.0000 - true_negatives: 5102.0000 - false_positives: 0.0000e+00 - false_negatives: 0.0000e+00 - auc: 1.0000\n",
      "num epochs 5\n",
      "tp 4898 tn 5102 fp   0 fn   0 auc 1.000 loss 0.000\n",
      "CPU times: user 11.3 s, sys: 1.68 s, total: 13 s\n",
      "Wall time: 6.8 s\n"
     ]
    }
   ],
   "source": [
    "%%time\n",
    "\"\"\"\n",
    "Put the elements together to generate data, make the model, and perform the training\n",
    "\"\"\"\n",
    "\n",
    "\n",
    "# create the random data\n",
    "x,y = create_data()\n",
    "\n",
    "# create the neural network\n",
    "model = makeModel()\n",
    "\n",
    "\n",
    "# this will monitor the error and stop if the delta is less than min_delta\n",
    "# https://keras.io/api/callbacks/early_stopping/\n",
    "earlystop = tf.keras.callbacks.EarlyStopping(\n",
    "    monitor=\"loss\",\n",
    "    min_delta=1e-5,\n",
    "    patience=1,\n",
    ")\n",
    "\n",
    "# fit the model with 500 steps.  There is a way to stop on specified change\n",
    "# in error but this is a simple example.\n",
    "#\n",
    "# https://keras.io/api/models/model_training_apis/#fit-method\n",
    "history = model.fit(\n",
    "    y=y,    # dependent variable\n",
    "    x=x,    # independent variable\n",
    "    epochs=numEpochs,  # try changing this to see how the error changes\n",
    "    verbose=1,    # change this from 0-5 to get more info as the training proceeds\n",
    "    callbacks=earlystop # this uses the 'earlystop' callback above to know when to stop\n",
    "    )\n",
    "\n",
    "print('num epochs', len(history.history['loss']))\n",
    "loss, tp, tn, fp, fn, auc = model.evaluate(x,y, verbose = 0)\n",
    "print('tp %3d tn %3d fp %3d fn %3d auc %4.3f loss %4.3f' % (tp, tn, fp, fn, auc, loss))\n"
   ]
  },
  {
   "cell_type": "code",
   "execution_count": 4,
   "metadata": {},
   "outputs": [
    {
     "data": {
      "image/png": "[encoded data removed]",
      "text/plain": [
       "<Figure size 432x288 with 1 Axes>"
      ]
     },
     "metadata": {
      "needs_background": "light"
     },
     "output_type": "display_data"
    }
   ],
   "source": [
    "import matplotlib.pyplot as plt\n",
    "# https://matplotlib.org/3.3.3/api/_as_gen/matplotlib.pyplot.html\n",
    "\n",
    "plt.plot(history.history['loss'])\n",
    "plt.xlabel('Epoch')\n",
    "plt.ylabel('loss')\n",
    "plt.grid(True)"
   ]
  },
  {
   "cell_type": "code",
   "execution_count": 5,
   "metadata": {},
   "outputs": [
    {
     "name": "stdout",
     "output_type": "stream",
     "text": [
      "[[1.0909566e-08]\n",
      " [1.0000000e+00]\n",
      " [1.0000000e+00]\n",
      " ...\n",
      " [1.0000000e+00]\n",
      " [1.0000000e+00]\n",
      " [2.2978847e-08]]\n"
     ]
    }
   ],
   "source": [
    "# example of predicted output. it is a floating point number that\n",
    "# corresponds to the 'confidence' that the category is 1, or divisible.\n",
    "pred = model.predict(x)\n",
    "print(pred)"
   ]
  },
  {
   "cell_type": "code",
   "execution_count": 6,
   "metadata": {},
   "outputs": [
    {
     "name": "stdout",
     "output_type": "stream",
     "text": [
      "accuracy metrics\n",
      "\n",
      "true positive   5032 false negative     0\n",
      "false positive     0 true negative   4968\n",
      "\n",
      "auc 1.000\n",
      "positive predictive value 1.000\n",
      "negative predictive value 1.000\n",
      "F1 score 1.000\n"
     ]
    }
   ],
   "source": [
    "# create new data for a test set\n",
    "# this will generate a new data set not used for training\n",
    "x,y = create_data()\n",
    "\n",
    "# compute metrics with model by predicting.\n",
    "loss, tp, tn, fp, fn, auc = model.evaluate(x,y, verbose = 0)\n",
    "print('accuracy metrics\\n')\n",
    "print('true positive  %5d false negative %5d\\nfalse positive %5d true negative  %5d\\n\\nauc %4.3f' % (tp, fn, fp, tn, auc))\n",
    "\n",
    "ppv = tp/(tp+fp+.01)\n",
    "npv  =  tn/(tn+fn+.01)\n",
    "F1  = 2*tp/(2*tp + fp + fn+.01)\n",
    "print('positive predictive value %3.3f\\nnegative predictive value %3.3f\\nF1 score %3.3f' %(ppv, npv, F1))\n"
   ]
  },
  {
   "cell_type": "code",
   "execution_count": 7,
   "metadata": {},
   "outputs": [
    {
     "data": {
      "text/plain": [
       "array([-0.07320905,  0.39408523,  0.25852773, -0.02701418,  0.0501482 ,\n",
       "        0.1307171 ,  0.37879682,  0.09216525, -0.31371328,  0.27492446,\n",
       "       -0.0239084 ,  0.29243177,  0.06481873,  0.3218358 ,  0.22298902,\n",
       "        0.2381576 , -0.11909904,  0.01449063,  0.27277422, -0.01122361,\n",
       "        0.08609343, -0.05047366,  0.11321859,  0.06122666, -0.05821388,\n",
       "        0.01807439,  0.24986053,  0.14617799, -0.01290892,  0.11235069,\n",
       "       -0.12733454, -0.01033883], dtype=float32)"
      ]
     },
     "execution_count": 7,
     "metadata": {},
     "output_type": "execute_result"
    }
   ],
   "source": [
    "# the coefficients can be retrieved by layer\n",
    "model.get_weights()[0][0]\n",
    "# you can see which bits have the highest coefficients, however it is difficult to interpret them."
   ]
  },
  {
   "cell_type": "code",
   "execution_count": null,
   "metadata": {},
   "outputs": [],
   "source": []
  }
 ],
 "metadata": {
  "kernelspec": {
   "display_name": "standard",
   "language": "python",
   "name": "standard"
  },
  "language_info": {
   "codemirror_mode": {
    "name": "ipython",
    "version": 3
   },
   "file_extension": ".py",
   "mimetype": "text/x-python",
   "name": "python",
   "nbconvert_exporter": "python",
   "pygments_lexer": "ipython3",
   "version": "3.7.7"
  }
 },
 "nbformat": 4,
 "nbformat_minor": 2
}
