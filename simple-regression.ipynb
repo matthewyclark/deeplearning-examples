{
 "cells": [
  {
   "cell_type": "markdown",
   "metadata": {},
   "source": [
    "*Excercise in Deep Learning*\n",
    "*Regression*\n",
    "\n",
    "This example goes through:\n",
    "\n",
    "- Make a small set of linearly related data\n",
    "- Use a neural network to fit a model\n",
    "- Show how error of fit changes with training epochs\n",
    "- Show that the trained coefficients are the slope and intercept\n",
    "\n",
    "required python software packages (install with pip):\n",
    "- numpy\n",
    "- tensorflow\n",
    "- matplotlib\n",
    "\n",
    "*Conclusions*\n",
    "\n",
    "One can do a least-squares fit with a neural net, however for small data sets it is less accurate\n",
    "and slower than the conventional method.\n",
    "\n",
    "The next step will show how to scale this up to millions of data points, which is not practical for\n",
    "conventional methods.\n"
   ]
  },
  {
   "cell_type": "code",
   "execution_count": 1,
   "metadata": {
    "scrolled": false
   },
   "outputs": [],
   "source": [
    "\"\"\" some variables you can experiment with to see how they affect the results \"\"\"\n",
    "\n",
    "nrows = 1000      # number of rows for example, change this to see impact\n",
    "                  # of data size\n",
    "    \n",
    "numEpochs = 500   # number of training steps.\n",
    "\n",
    "slope = 3.0       # slope of line to be generated\n",
    "intercept = 7.0   # intercept of line\n",
    "                  # you can experiment with these\n",
    "\n",
    "#\n",
    "#   with these conditions the RMS error is 0.0032, slope is 3.0009,  intercept 6.9995\n",
    "#   "
   ]
  },
  {
   "cell_type": "code",
   "execution_count": 2,
   "metadata": {},
   "outputs": [
    {
     "name": "stdout",
     "output_type": "stream",
     "text": [
      "x [0.98068156 0.06748614 0.20473789 0.89243181 0.12269473 0.47794011\n",
      " 0.14174919 0.83921688 0.05514057 0.44515179]\n",
      "y [9.94204468 7.20245841 7.61421366 9.67729542 7.36808419 8.43382032\n",
      " 7.42524757 9.51765064 7.16542172 8.33545536]\n"
     ]
    }
   ],
   "source": [
    "import numpy as np\n",
    "# numpy is an essential library of numeric methods for python. It is also optimized\n",
    "# for high performance.\n",
    "# https://numpy.org/\n",
    "\n",
    "\n",
    "#\n",
    "# create a data set for y = mx + b, linearly related variables\n",
    "# returns a tuple (x,y) of 'nrows' of correlated data\n",
    "#\n",
    "def create_data():\n",
    "    \n",
    "    # use the numpy library to create a random list\n",
    "    # of numbers beteen 0 and 1.  np.random.uniform supplies this.\n",
    "    # https://numpy.org/doc/stable/reference/random/generated/numpy.random.uniform.html\n",
    "    x = np.random.uniform(low=0, high=1, size=nrows)\n",
    "    \n",
    "    # numpy allows \"overloading operators\"  to allow a natural\n",
    "    # syntax for multiplying and adding to a list\n",
    "    y = slope*x + intercept\n",
    "    \n",
    "    # return x,y as a tuple\n",
    "    return (x,y)\n",
    "\n",
    "\n",
    "x,y = create_data()\n",
    "\n",
    "# print first 10 values to see the results\n",
    "# https://docs.python.org/3/tutorial/datastructures.html\n",
    "\n",
    "print('x', x[:10])  # use python list syntax for first 10\n",
    "print('y', y[:10])\n"
   ]
  },
  {
   "cell_type": "code",
   "execution_count": 3,
   "metadata": {},
   "outputs": [],
   "source": [
    "\"\"\"\n",
    "create the Neural Network model topology, which is one layer\n",
    "\"\"\"\n",
    "import tensorflow as tf\n",
    "import tensorflow.keras as keras\n",
    "\n",
    "def makeModel():\n",
    "\n",
    "    # these two lines clear out the model so you can re-run \n",
    "    # the notebook with different conditions\n",
    "    keras.backend.clear_session()\n",
    "    tf.compat.v1.reset_default_graph()\n",
    "\n",
    "    # https://keras.io/api/models/sequential/#sequential-class\n",
    "    model = keras.Sequential()\n",
    "    \n",
    "    # https://keras.io/api/layers/core_layers/input/\n",
    "    model.add(keras.Input(shape=(1,)))\n",
    "    \n",
    "    # define a single layer of neurons.  There are many options that \n",
    "    # could be used here but the default are used for this simple example\n",
    "    \n",
    "    # https://keras.io/api/layers/core_layers/dense/\n",
    "    model.add(keras.layers.Dense(units=1, name='dense_layer'))\n",
    "        \n",
    "    # compile the network using default options.  The Adam optimizer\n",
    "    # is good for general purpose, but would probably benefit from a custom\n",
    "    # learning rate for this example\n",
    "    #\n",
    "    # the loss is function that will be minimized in the fitting process\n",
    "    # https://keras.io/api/models/model_training_apis/#compile-method\n",
    "    # https://keras.io/api/optimizers/adam/\n",
    "    # https://keras.io/api/losses/regression_losses/#meansquarederror-class\n",
    "    model.compile(optimizer='Adam', loss='mean_squared_error')\n",
    "    \n",
    "    #show the model structure and layer size\n",
    "    # the model has 2 trainable variables - enough for a perfect fit.\n",
    "    model.summary()\n",
    "    \n",
    "    return model\n"
   ]
  },
  {
   "cell_type": "code",
   "execution_count": 4,
   "metadata": {},
   "outputs": [
    {
     "name": "stdout",
     "output_type": "stream",
     "text": [
      "Model: \"sequential\"\n",
      "_________________________________________________________________\n",
      "Layer (type)                 Output Shape              Param #   \n",
      "=================================================================\n",
      "dense_layer (Dense)          (None, 1)                 2         \n",
      "=================================================================\n",
      "Total params: 2\n",
      "Trainable params: 2\n",
      "Non-trainable params: 0\n",
      "_________________________________________________________________\n",
      "\n",
      "rms error of prediction 0.00021\n"
     ]
    }
   ],
   "source": [
    "\"\"\"\n",
    "Put the elements together to generate data, make the model, and perform the training\n",
    "\"\"\"\n",
    "\n",
    "\n",
    "# create the random data\n",
    "x,y = create_data()\n",
    "\n",
    "# create the neural network\n",
    "model = makeModel()\n",
    "\n",
    "# fit the model with 500 steps.  There is a way to stop on specified change\n",
    "# in error but this is a simple example.\n",
    "#\n",
    "# https://keras.io/api/models/model_training_apis/#fit-method\n",
    "history = model.fit(\n",
    "    y=y,    # dependent variable\n",
    "    x=x,    # independent variable\n",
    "    epochs=numEpochs,  # try changing this to see how the error changes\n",
    "    verbose=0,    # change this from 0-5 to get more info as the training proceeds\n",
    "    )\n",
    "\n",
    "# this method makes a prediction using the argument as input data\n",
    "\n",
    "# the output of model.predict has to be reshaped, see the last \n",
    "# cell for more information\n",
    "# https://www.tensorflow.org/api_docs/python/tf/reshape\n",
    "predy = tf.reshape(model.predict(x), nrows)\n",
    "\n",
    "# compute RMS error of prediction\n",
    "# https://numpy.org/doc/stable/reference/generated/numpy.sqrt.html\n",
    "# https://numpy.org/doc/stable/reference/generated/numpy.average.html\n",
    "rms_error = np.sqrt( np.average(((predy-y) ** 2)) )\n",
    "print('\\nrms error of prediction %6.5f' %(rms_error))\n"
   ]
  },
  {
   "cell_type": "code",
   "execution_count": 5,
   "metadata": {},
   "outputs": [
    {
     "data": {
      "image/png": "[encoded data removed]",
      "text/plain": [
       "<Figure size 432x288 with 1 Axes>"
      ]
     },
     "metadata": {
      "needs_background": "light"
     },
     "output_type": "display_data"
    }
   ],
   "source": [
    "import matplotlib.pyplot as plt\n",
    "\n",
    "# https://matplotlib.org/3.3.3/api/_as_gen/matplotlib.pyplot.html\n",
    "plt.plot(history.history['loss'])\n",
    "plt.xlabel('Epoch')\n",
    "plt.ylabel('loss')\n",
    "plt.grid(True)"
   ]
  },
  {
   "cell_type": "code",
   "execution_count": 6,
   "metadata": {},
   "outputs": [
    {
     "data": {
      "image/png": "[encoded data removed]",
      "text/plain": [
       "<Figure size 432x288 with 1 Axes>"
      ]
     },
     "metadata": {
      "needs_background": "light"
     },
     "output_type": "display_data"
    }
   ],
   "source": [
    "#\n",
    "# plot predicted vs actual\n",
    "# this should be a straight line with a\n",
    "# slope of 1.0\n",
    "\n",
    "plt.xlabel('actual')\n",
    "plt.ylabel('predicted')\n",
    "s = plt.scatter(y, predy)"
   ]
  },
  {
   "cell_type": "code",
   "execution_count": 7,
   "metadata": {},
   "outputs": [
    {
     "name": "stdout",
     "output_type": "stream",
     "text": [
      "model.predict shape tf.Tensor([1000    1], shape=(2,), dtype=int32)\n",
      "shape is now tf.Tensor([1000], shape=(1,), dtype=int32)\n",
      "\n",
      "computed slope/intercept:\n",
      "slope 3.0007  intercept 6.9996\n"
     ]
    },
    {
     "data": {
      "image/png": "[encoded data removed]",
      "text/plain": [
       "<Figure size 432x288 with 1 Axes>"
      ]
     },
     "metadata": {
      "needs_background": "light"
     },
     "output_type": "display_data"
    }
   ],
   "source": [
    "#\n",
    "# plot error as a function of X\n",
    "#\n",
    "\n",
    "py = model.predict(x)\n",
    "# the output of model.predict is this\n",
    "print('model.predict shape', tf.shape(py))\n",
    "\n",
    "# need to reshap to a normal list\n",
    "py = tf.reshape(model.predict(x), nrows)\n",
    "print('shape is now', tf.shape(py))\n",
    "\n",
    "# now subtract predicted - actual y to look at errors\n",
    "# https://numpy.org/doc/stable/reference/generated/numpy.subtract.html\n",
    "error = np.subtract(py, y)\n",
    "\n",
    "#\n",
    "# plot the errors\n",
    "# the errors are not randomly distributed\n",
    "#\n",
    "plt.scatter(x, error)\n",
    "plt.xlabel('value')\n",
    "s = plt.ylabel('error')\n",
    "\n",
    "\n",
    "#\n",
    "# one can get the coefficients of the neural net.  Normally they are not very interpretable\n",
    "# but since in this model there are only two, they correspond to slope and intercept\n",
    "#\n",
    "# https://keras.io/api/models/model_saving_apis/#getweights-method\n",
    "slope, intercept = model.get_weights()\n",
    "\n",
    "print('\\ncomputed slope/intercept:')\n",
    "print('slope %5.4f  intercept %5.4f'  % (slope, intercept))"
   ]
  }
 ],
 "metadata": {
  "kernelspec": {
   "display_name": "standard",
   "language": "python",
   "name": "standard"
  },
  "language_info": {
   "codemirror_mode": {
    "name": "ipython",
    "version": 3
   },
   "file_extension": ".py",
   "mimetype": "text/x-python",
   "name": "python",
   "nbconvert_exporter": "python",
   "pygments_lexer": "ipython3",
   "version": "3.7.7"
  }
 },
 "nbformat": 4,
 "nbformat_minor": 2
}
