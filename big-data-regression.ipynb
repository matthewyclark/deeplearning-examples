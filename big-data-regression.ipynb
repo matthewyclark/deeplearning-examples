{
 "cells": [
  {
   "cell_type": "markdown",
   "metadata": {},
   "source": [
    "*Excercise in Deep Learning*\n",
    "*Regression*\n",
    "\n",
    "This example goes through:\n",
    "\n",
    "- create a generator for *1e8 data points*!  using a \"generator\"\n",
    "- Use a neural network to fit a model\n",
    "- Show how error of fit changes with training epochs\n",
    "- Show that the trained coefficients are the slope and intercept\n",
    "\n",
    "required python software packages (install with pip):\n",
    "- numpy\n",
    "- tensorflow\n",
    "- matplotlib\n",
    "\n",
    "*Conclusions*\n",
    "\n",
    "few standard least-squares fit programs (e.g. R ) will handle 1e8 data points in about 4 minutes.  Deep learning is\n",
    "very efficient for this kind of large data set.\n",
    "\n",
    "The answer produced is quite accurate in 1 training epoch due to the data size.\n"
   ]
  },
  {
   "cell_type": "code",
   "execution_count": 1,
   "metadata": {
    "scrolled": false
   },
   "outputs": [],
   "source": [
    "\"\"\" some variables you can experiment with to see how they affect the results \"\"\"\n",
    "\n",
    "nrows = int(1e8)  # number of rows for example, change this to see impact\n",
    "                  # of data size\n",
    "    \n",
    "numEpochs = 100   # number of training steps.\n",
    "\n",
    "batch_size = 512  # training batch size\n",
    "\n",
    "slope = 3.0       # slope of line to be generated\n",
    "intercept = 7.0   # intercept of line\n",
    "                  # you can experiment with these\n",
    "\n",
    "#\n",
    "#   with these conditions the RMS error is 0.0000, slope is 3.0000,  intercept 7.0000\n",
    "#   the time was about 5-10 minutes.\n",
    "#   "
   ]
  },
  {
   "cell_type": "code",
   "execution_count": 2,
   "metadata": {},
   "outputs": [],
   "source": [
    "import tensorflow.keras as keras\n",
    "import numpy as np\n",
    "\n",
    "\"\"\"\n",
    "In big-data situations the data won't all fit in memory.  In that case we use a generator to\n",
    "feed the data to Tensorflow in batches.  The data could be read from files or other sources.\n",
    "\n",
    "In this example we generate a large number of random data, and create a linearly correlated data\n",
    "set.  This can generate an \"unlimited\" size data set.\n",
    "\"\"\"\n",
    "\n",
    "# implement a class of type 'keras.utils.Sequence'\n",
    "# https://keras.io/api/utils/python_utils/#sequence-class\n",
    "class linear_generator(keras.utils.Sequence):\n",
    "    \n",
    "    # initialize with batch_size and nrows - total data size\n",
    "    # in a class all methods have the 'self' argument first.\n",
    "    def __init__(self, batch_size, nrows):\n",
    "        self.batch_size = batch_size # store batch_size in this class\n",
    "        self.nrows = nrows\n",
    "        self.batches = int(nrows/batch_size)\n",
    "     \n",
    "    # return number of batches this generator will produce\n",
    "    def __len__(self):\n",
    "        return self.batches\n",
    "    \n",
    "    \n",
    "    # this method is called for each batch. In this example we ignore the\n",
    "    # batch index, idx, because it is just random numbers. But in a real\n",
    "    # situation you would retrieve a specific batch of data\n",
    "    def __getitem__(self, idx):\n",
    "        # use the numpy library to create a random list\n",
    "        # of numbers beteen 0 and 1.  np.random.uniform supplies this.\n",
    "        # https://numpy.org/doc/stable/reference/random/generated/numpy.random.uniform.html\n",
    "        x = np.random.uniform(low=0, high=1, size=self.batch_size)\n",
    "\n",
    "        # numpy allows \"overloading operators\"  to allow a natural\n",
    "        # syntax for multiplying and adding to a list\n",
    "        y = slope*x + intercept\n",
    "\n",
    "        # return x,y as a tuple\n",
    "        return (x,y)\n",
    "    "
   ]
  },
  {
   "cell_type": "code",
   "execution_count": 3,
   "metadata": {},
   "outputs": [],
   "source": [
    "\"\"\"\n",
    "create the Neural Network model topology, which is one layer\n",
    "\"\"\"\n",
    "import tensorflow as tf\n",
    "import tensorflow.keras as keras\n",
    "\n",
    "def makeModel():\n",
    "\n",
    "    # these two lines clear out the model so you can re-run \n",
    "    # the notebook with different conditions\n",
    "    keras.backend.clear_session()\n",
    "    tf.compat.v1.reset_default_graph()\n",
    "\n",
    "    # https://keras.io/api/models/sequential/#sequential-class\n",
    "    model = keras.Sequential()\n",
    "    \n",
    "    # https://keras.io/api/layers/core_layers/input/\n",
    "    model.add(keras.Input(shape=(1,)))\n",
    "    \n",
    "    # define a single layer of neurons.  There are many options that \n",
    "    # could be used here but the default are used for this simple example\n",
    "    \n",
    "    # https://keras.io/api/layers/core_layers/dense/\n",
    "    model.add(keras.layers.Dense(units=1, name='dense_layer'))\n",
    "        \n",
    "    # compile the network using default options.  The Adam optimizer\n",
    "    # is good for general purpose, but would probably benefit from a custom\n",
    "    # learning rate for this example\n",
    "    #\n",
    "    # the loss is function that will be minimized in the fitting process\n",
    "    # https://keras.io/api/models/model_training_apis/#compile-method\n",
    "    model.compile(optimizer='Adam', loss='mean_squared_error')\n",
    "    \n",
    "    #show the model structure and layer size\n",
    "    # the model has 2 trainable variables - enough for a perfect fit.\n",
    "    model.summary()\n",
    "    \n",
    "    return model\n"
   ]
  },
  {
   "cell_type": "code",
   "execution_count": 4,
   "metadata": {},
   "outputs": [
    {
     "name": "stdout",
     "output_type": "stream",
     "text": [
      "number of training  batches 195312\n",
      "number of validation batches 1\n",
      "Model: \"sequential\"\n",
      "_________________________________________________________________\n",
      "Layer (type)                 Output Shape              Param #   \n",
      "=================================================================\n",
      "dense_layer (Dense)          (None, 1)                 2         \n",
      "=================================================================\n",
      "Total params: 2\n",
      "Trainable params: 2\n",
      "Non-trainable params: 0\n",
      "_________________________________________________________________\n",
      "1/1 [==============================] - 0s 959us/step - loss: 3.3901e-11\n",
      "\n",
      "fitting epochs  2\n",
      "rms error of prediction 0.0000\n",
      "CPU times: user 9min 27s, sys: 55 s, total: 10min 22s\n",
      "Wall time: 4min 26s\n"
     ]
    }
   ],
   "source": [
    "%%time\n",
    "\"\"\"\n",
    "Put the elements together to generate data, make the model, and perform the training\n",
    "\"\"\"\n",
    "\n",
    "\n",
    "# create the random data\n",
    "data = linear_generator(batch_size, nrows)\n",
    "validation = linear_generator(batch_size, min(1000, nrows/4))\n",
    "\n",
    "# print out the number of batches\n",
    "tbatches = data.__len__()             # training batches\n",
    "vbatches = validation.__len__()       # validation batches\n",
    "\n",
    "print('number of training  batches',  tbatches)\n",
    "print('number of validation batches', vbatches)\n",
    "\n",
    "# create the neural network\n",
    "model = makeModel()\n",
    "\n",
    "# this will monitor the error and stop if the delta is less than min_delta\n",
    "# https://keras.io/api/callbacks/early_stopping/\n",
    "earlystop = tf.keras.callbacks.EarlyStopping(\n",
    "    monitor=\"val_loss\",\n",
    "    min_delta=1e-3,\n",
    "    patience=0,\n",
    "    verbose=0,\n",
    "    mode=\"auto\",\n",
    "    baseline=None,\n",
    "    restore_best_weights=False,\n",
    ")\n",
    "\n",
    "\n",
    "# fit the model with 500 steps.  There is a way to stop on specified change\n",
    "# in error but this is a simple example.\n",
    "#\n",
    "# https://keras.io/api/models/model_training_apis/#fit-method\n",
    "history = model.fit(\n",
    "    x=data,\n",
    "    validation_data=validation,\n",
    "    callbacks=earlystop, # dynamic stopping\n",
    "    epochs=numEpochs,     # try changing this to see how the error changes\n",
    "    verbose=0,    # change this from 0-5 to get more info as the training proceeds\n",
    "    )\n",
    "\n",
    "\n",
    "epochs = len(history.history)\n",
    "# https://keras.io/api/models/model_training_apis/#evaluate-method\n",
    "loss = model.evaluate(validation)\n",
    "\n",
    "print('\\nfitting epochs ', epochs)\n",
    "print('rms error of prediction %5.4f' % (np.sqrt(loss)))\n"
   ]
  },
  {
   "cell_type": "code",
   "execution_count": 5,
   "metadata": {},
   "outputs": [
    {
     "data": {
      "image/png": "[encoded data removed]",
      "text/plain": [
       "<Figure size 432x288 with 1 Axes>"
      ]
     },
     "metadata": {
      "needs_background": "light"
     },
     "output_type": "display_data"
    }
   ],
   "source": [
    "import matplotlib.pyplot as plt\n",
    "# https://matplotlib.org/3.3.3/api/_as_gen/matplotlib.pyplot.html\n",
    "\n",
    "plt.plot(history.history['loss'])\n",
    "plt.xlabel('Epoch')\n",
    "plt.ylabel('loss')\n",
    "plt.grid(True)"
   ]
  },
  {
   "cell_type": "code",
   "execution_count": 6,
   "metadata": {},
   "outputs": [
    {
     "data": {
      "image/png": "[encoded data removed]",
      "text/plain": [
       "<Figure size 432x288 with 1 Axes>"
      ]
     },
     "metadata": {
      "needs_background": "light"
     },
     "output_type": "display_data"
    }
   ],
   "source": [
    "#\n",
    "# plot predicted vs actual\n",
    "# this should be a straight line with a\n",
    "# slope of 1.0\n",
    "x,y = validation.__getitem__(0)\n",
    "predy = model.predict(x)\n",
    "plt.xlabel('actual')\n",
    "plt.ylabel('predicted')\n",
    "s = plt.scatter(y, predy)"
   ]
  },
  {
   "cell_type": "code",
   "execution_count": 7,
   "metadata": {},
   "outputs": [
    {
     "name": "stdout",
     "output_type": "stream",
     "text": [
      "model.predict shape tf.Tensor([512   1], shape=(2,), dtype=int32)\n",
      "shape is now tf.Tensor([512], shape=(1,), dtype=int32)\n",
      "\n",
      "computed slope/intercept:\n",
      "slope 3.0000  intercept 7.0000\n"
     ]
    },
    {
     "data": {
      "image/png": "[encoded data removed]",
      "text/plain": [
       "<Figure size 432x288 with 1 Axes>"
      ]
     },
     "metadata": {
      "needs_background": "light"
     },
     "output_type": "display_data"
    }
   ],
   "source": [
    "#\n",
    "# plot error as a function of X\n",
    "#\n",
    "x,y = validation.__getitem__(0)\n",
    "py = model.predict(x)\n",
    "# the output of model.predict is this\n",
    "print('model.predict shape', tf.shape(py))\n",
    "\n",
    "# need to reshap to a normal list\n",
    "py = tf.reshape(model.predict(x), len(x))\n",
    "print('shape is now', tf.shape(py))\n",
    "\n",
    "# now subtract predicted - actual y to look at errors\n",
    "error = np.subtract(py, y)\n",
    "\n",
    "#\n",
    "# plot the errors\n",
    "# the errors are not randomly distributed\n",
    "#\n",
    "plt.scatter(x, error)\n",
    "plt.xlabel('value')\n",
    "s = plt.ylabel('error')\n",
    "\n",
    "\n",
    "#\n",
    "# one can get the coefficients of the neural net.  Normally they are not very interpretable\n",
    "# but since in this model there are only two, they correspond to slope and intercept\n",
    "#\n",
    "slope, intercept = model.get_weights()\n",
    "\n",
    "print('\\ncomputed slope/intercept:')\n",
    "print('slope %5.4f  intercept %5.4f'  % (slope, intercept))"
   ]
  },
  {
   "cell_type": "code",
   "execution_count": null,
   "metadata": {},
   "outputs": [],
   "source": []
  },
  {
   "cell_type": "code",
   "execution_count": null,
   "metadata": {},
   "outputs": [],
   "source": []
  }
 ],
 "metadata": {
  "kernelspec": {
   "display_name": "standard",
   "language": "python",
   "name": "standard"
  },
  "language_info": {
   "codemirror_mode": {
    "name": "ipython",
    "version": 3
   },
   "file_extension": ".py",
   "mimetype": "text/x-python",
   "name": "python",
   "nbconvert_exporter": "python",
   "pygments_lexer": "ipython3",
   "version": "3.7.7"
  }
 },
 "nbformat": 4,
 "nbformat_minor": 2
}
